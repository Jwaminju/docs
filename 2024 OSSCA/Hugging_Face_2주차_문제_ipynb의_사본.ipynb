{
  "nbformat": 4,
  "nbformat_minor": 0,
  "metadata": {
    "colab": {
      "provenance": [],
      "include_colab_link": true
    },
    "kernelspec": {
      "name": "python3",
      "display_name": "Python 3"
    },
    "language_info": {
      "name": "python"
    },
    "widgets": {
      "application/vnd.jupyter.widget-state+json": {
        "eb01d6d4f502424ba5ba2fd987786f1f": {
          "model_module": "@jupyter-widgets/controls",
          "model_name": "HBoxModel",
          "model_module_version": "1.5.0",
          "state": {
            "_dom_classes": [],
            "_model_module": "@jupyter-widgets/controls",
            "_model_module_version": "1.5.0",
            "_model_name": "HBoxModel",
            "_view_count": null,
            "_view_module": "@jupyter-widgets/controls",
            "_view_module_version": "1.5.0",
            "_view_name": "HBoxView",
            "box_style": "",
            "children": [
              "IPY_MODEL_f6c24e79524f4d6c93b64752033d3de5",
              "IPY_MODEL_c12a614007a54c65b85b13206cdeed24",
              "IPY_MODEL_16ba84d414bd4953b353c253b1bdcc99"
            ],
            "layout": "IPY_MODEL_8ee30853e4224374a9e65752bf8786e3"
          }
        },
        "f6c24e79524f4d6c93b64752033d3de5": {
          "model_module": "@jupyter-widgets/controls",
          "model_name": "HTMLModel",
          "model_module_version": "1.5.0",
          "state": {
            "_dom_classes": [],
            "_model_module": "@jupyter-widgets/controls",
            "_model_module_version": "1.5.0",
            "_model_name": "HTMLModel",
            "_view_count": null,
            "_view_module": "@jupyter-widgets/controls",
            "_view_module_version": "1.5.0",
            "_view_name": "HTMLView",
            "description": "",
            "description_tooltip": null,
            "layout": "IPY_MODEL_f303021184c647f980ce9ace50f2084f",
            "placeholder": "​",
            "style": "IPY_MODEL_27d949a3459f4a649d749afbc7fbcbba",
            "value": "tokenizer_config.json: 100%"
          }
        },
        "c12a614007a54c65b85b13206cdeed24": {
          "model_module": "@jupyter-widgets/controls",
          "model_name": "FloatProgressModel",
          "model_module_version": "1.5.0",
          "state": {
            "_dom_classes": [],
            "_model_module": "@jupyter-widgets/controls",
            "_model_module_version": "1.5.0",
            "_model_name": "FloatProgressModel",
            "_view_count": null,
            "_view_module": "@jupyter-widgets/controls",
            "_view_module_version": "1.5.0",
            "_view_name": "ProgressView",
            "bar_style": "success",
            "description": "",
            "description_tooltip": null,
            "layout": "IPY_MODEL_6cefab051c384ce99d04977c6fdc1963",
            "max": 48,
            "min": 0,
            "orientation": "horizontal",
            "style": "IPY_MODEL_ae533552d56d4aacab8721f4cda3a8f9",
            "value": 48
          }
        },
        "16ba84d414bd4953b353c253b1bdcc99": {
          "model_module": "@jupyter-widgets/controls",
          "model_name": "HTMLModel",
          "model_module_version": "1.5.0",
          "state": {
            "_dom_classes": [],
            "_model_module": "@jupyter-widgets/controls",
            "_model_module_version": "1.5.0",
            "_model_name": "HTMLModel",
            "_view_count": null,
            "_view_module": "@jupyter-widgets/controls",
            "_view_module_version": "1.5.0",
            "_view_name": "HTMLView",
            "description": "",
            "description_tooltip": null,
            "layout": "IPY_MODEL_b6ba14a080754068843f6b8b5083296b",
            "placeholder": "​",
            "style": "IPY_MODEL_13cd8b87b71847518c727d12db7bd1e9",
            "value": " 48.0/48.0 [00:00&lt;00:00, 1.15kB/s]"
          }
        },
        "8ee30853e4224374a9e65752bf8786e3": {
          "model_module": "@jupyter-widgets/base",
          "model_name": "LayoutModel",
          "model_module_version": "1.2.0",
          "state": {
            "_model_module": "@jupyter-widgets/base",
            "_model_module_version": "1.2.0",
            "_model_name": "LayoutModel",
            "_view_count": null,
            "_view_module": "@jupyter-widgets/base",
            "_view_module_version": "1.2.0",
            "_view_name": "LayoutView",
            "align_content": null,
            "align_items": null,
            "align_self": null,
            "border": null,
            "bottom": null,
            "display": null,
            "flex": null,
            "flex_flow": null,
            "grid_area": null,
            "grid_auto_columns": null,
            "grid_auto_flow": null,
            "grid_auto_rows": null,
            "grid_column": null,
            "grid_gap": null,
            "grid_row": null,
            "grid_template_areas": null,
            "grid_template_columns": null,
            "grid_template_rows": null,
            "height": null,
            "justify_content": null,
            "justify_items": null,
            "left": null,
            "margin": null,
            "max_height": null,
            "max_width": null,
            "min_height": null,
            "min_width": null,
            "object_fit": null,
            "object_position": null,
            "order": null,
            "overflow": null,
            "overflow_x": null,
            "overflow_y": null,
            "padding": null,
            "right": null,
            "top": null,
            "visibility": null,
            "width": null
          }
        },
        "f303021184c647f980ce9ace50f2084f": {
          "model_module": "@jupyter-widgets/base",
          "model_name": "LayoutModel",
          "model_module_version": "1.2.0",
          "state": {
            "_model_module": "@jupyter-widgets/base",
            "_model_module_version": "1.2.0",
            "_model_name": "LayoutModel",
            "_view_count": null,
            "_view_module": "@jupyter-widgets/base",
            "_view_module_version": "1.2.0",
            "_view_name": "LayoutView",
            "align_content": null,
            "align_items": null,
            "align_self": null,
            "border": null,
            "bottom": null,
            "display": null,
            "flex": null,
            "flex_flow": null,
            "grid_area": null,
            "grid_auto_columns": null,
            "grid_auto_flow": null,
            "grid_auto_rows": null,
            "grid_column": null,
            "grid_gap": null,
            "grid_row": null,
            "grid_template_areas": null,
            "grid_template_columns": null,
            "grid_template_rows": null,
            "height": null,
            "justify_content": null,
            "justify_items": null,
            "left": null,
            "margin": null,
            "max_height": null,
            "max_width": null,
            "min_height": null,
            "min_width": null,
            "object_fit": null,
            "object_position": null,
            "order": null,
            "overflow": null,
            "overflow_x": null,
            "overflow_y": null,
            "padding": null,
            "right": null,
            "top": null,
            "visibility": null,
            "width": null
          }
        },
        "27d949a3459f4a649d749afbc7fbcbba": {
          "model_module": "@jupyter-widgets/controls",
          "model_name": "DescriptionStyleModel",
          "model_module_version": "1.5.0",
          "state": {
            "_model_module": "@jupyter-widgets/controls",
            "_model_module_version": "1.5.0",
            "_model_name": "DescriptionStyleModel",
            "_view_count": null,
            "_view_module": "@jupyter-widgets/base",
            "_view_module_version": "1.2.0",
            "_view_name": "StyleView",
            "description_width": ""
          }
        },
        "6cefab051c384ce99d04977c6fdc1963": {
          "model_module": "@jupyter-widgets/base",
          "model_name": "LayoutModel",
          "model_module_version": "1.2.0",
          "state": {
            "_model_module": "@jupyter-widgets/base",
            "_model_module_version": "1.2.0",
            "_model_name": "LayoutModel",
            "_view_count": null,
            "_view_module": "@jupyter-widgets/base",
            "_view_module_version": "1.2.0",
            "_view_name": "LayoutView",
            "align_content": null,
            "align_items": null,
            "align_self": null,
            "border": null,
            "bottom": null,
            "display": null,
            "flex": null,
            "flex_flow": null,
            "grid_area": null,
            "grid_auto_columns": null,
            "grid_auto_flow": null,
            "grid_auto_rows": null,
            "grid_column": null,
            "grid_gap": null,
            "grid_row": null,
            "grid_template_areas": null,
            "grid_template_columns": null,
            "grid_template_rows": null,
            "height": null,
            "justify_content": null,
            "justify_items": null,
            "left": null,
            "margin": null,
            "max_height": null,
            "max_width": null,
            "min_height": null,
            "min_width": null,
            "object_fit": null,
            "object_position": null,
            "order": null,
            "overflow": null,
            "overflow_x": null,
            "overflow_y": null,
            "padding": null,
            "right": null,
            "top": null,
            "visibility": null,
            "width": null
          }
        },
        "ae533552d56d4aacab8721f4cda3a8f9": {
          "model_module": "@jupyter-widgets/controls",
          "model_name": "ProgressStyleModel",
          "model_module_version": "1.5.0",
          "state": {
            "_model_module": "@jupyter-widgets/controls",
            "_model_module_version": "1.5.0",
            "_model_name": "ProgressStyleModel",
            "_view_count": null,
            "_view_module": "@jupyter-widgets/base",
            "_view_module_version": "1.2.0",
            "_view_name": "StyleView",
            "bar_color": null,
            "description_width": ""
          }
        },
        "b6ba14a080754068843f6b8b5083296b": {
          "model_module": "@jupyter-widgets/base",
          "model_name": "LayoutModel",
          "model_module_version": "1.2.0",
          "state": {
            "_model_module": "@jupyter-widgets/base",
            "_model_module_version": "1.2.0",
            "_model_name": "LayoutModel",
            "_view_count": null,
            "_view_module": "@jupyter-widgets/base",
            "_view_module_version": "1.2.0",
            "_view_name": "LayoutView",
            "align_content": null,
            "align_items": null,
            "align_self": null,
            "border": null,
            "bottom": null,
            "display": null,
            "flex": null,
            "flex_flow": null,
            "grid_area": null,
            "grid_auto_columns": null,
            "grid_auto_flow": null,
            "grid_auto_rows": null,
            "grid_column": null,
            "grid_gap": null,
            "grid_row": null,
            "grid_template_areas": null,
            "grid_template_columns": null,
            "grid_template_rows": null,
            "height": null,
            "justify_content": null,
            "justify_items": null,
            "left": null,
            "margin": null,
            "max_height": null,
            "max_width": null,
            "min_height": null,
            "min_width": null,
            "object_fit": null,
            "object_position": null,
            "order": null,
            "overflow": null,
            "overflow_x": null,
            "overflow_y": null,
            "padding": null,
            "right": null,
            "top": null,
            "visibility": null,
            "width": null
          }
        },
        "13cd8b87b71847518c727d12db7bd1e9": {
          "model_module": "@jupyter-widgets/controls",
          "model_name": "DescriptionStyleModel",
          "model_module_version": "1.5.0",
          "state": {
            "_model_module": "@jupyter-widgets/controls",
            "_model_module_version": "1.5.0",
            "_model_name": "DescriptionStyleModel",
            "_view_count": null,
            "_view_module": "@jupyter-widgets/base",
            "_view_module_version": "1.2.0",
            "_view_name": "StyleView",
            "description_width": ""
          }
        },
        "4a6309dce06547a1b022bfb6a30dc6ee": {
          "model_module": "@jupyter-widgets/controls",
          "model_name": "HBoxModel",
          "model_module_version": "1.5.0",
          "state": {
            "_dom_classes": [],
            "_model_module": "@jupyter-widgets/controls",
            "_model_module_version": "1.5.0",
            "_model_name": "HBoxModel",
            "_view_count": null,
            "_view_module": "@jupyter-widgets/controls",
            "_view_module_version": "1.5.0",
            "_view_name": "HBoxView",
            "box_style": "",
            "children": [
              "IPY_MODEL_6e00e5745c23466bb6f1f85cba6382bf",
              "IPY_MODEL_1f6f8c3d6738442a8bdb67da5d017a6a",
              "IPY_MODEL_55ce458a27a64ea4a8c35c111e727809"
            ],
            "layout": "IPY_MODEL_566e06d527864ce385f319ab164f0b54"
          }
        },
        "6e00e5745c23466bb6f1f85cba6382bf": {
          "model_module": "@jupyter-widgets/controls",
          "model_name": "HTMLModel",
          "model_module_version": "1.5.0",
          "state": {
            "_dom_classes": [],
            "_model_module": "@jupyter-widgets/controls",
            "_model_module_version": "1.5.0",
            "_model_name": "HTMLModel",
            "_view_count": null,
            "_view_module": "@jupyter-widgets/controls",
            "_view_module_version": "1.5.0",
            "_view_name": "HTMLView",
            "description": "",
            "description_tooltip": null,
            "layout": "IPY_MODEL_16c558f99f25432486329895b37f0a83",
            "placeholder": "​",
            "style": "IPY_MODEL_463da6fab74a4ffe983a59f4388a11f0",
            "value": "vocab.txt: 100%"
          }
        },
        "1f6f8c3d6738442a8bdb67da5d017a6a": {
          "model_module": "@jupyter-widgets/controls",
          "model_name": "FloatProgressModel",
          "model_module_version": "1.5.0",
          "state": {
            "_dom_classes": [],
            "_model_module": "@jupyter-widgets/controls",
            "_model_module_version": "1.5.0",
            "_model_name": "FloatProgressModel",
            "_view_count": null,
            "_view_module": "@jupyter-widgets/controls",
            "_view_module_version": "1.5.0",
            "_view_name": "ProgressView",
            "bar_style": "success",
            "description": "",
            "description_tooltip": null,
            "layout": "IPY_MODEL_499a8763899840de9249fe4e3c73d4e3",
            "max": 231508,
            "min": 0,
            "orientation": "horizontal",
            "style": "IPY_MODEL_8e48594f0e52423da621c57f9935716f",
            "value": 231508
          }
        },
        "55ce458a27a64ea4a8c35c111e727809": {
          "model_module": "@jupyter-widgets/controls",
          "model_name": "HTMLModel",
          "model_module_version": "1.5.0",
          "state": {
            "_dom_classes": [],
            "_model_module": "@jupyter-widgets/controls",
            "_model_module_version": "1.5.0",
            "_model_name": "HTMLModel",
            "_view_count": null,
            "_view_module": "@jupyter-widgets/controls",
            "_view_module_version": "1.5.0",
            "_view_name": "HTMLView",
            "description": "",
            "description_tooltip": null,
            "layout": "IPY_MODEL_e4f54c1167ad44d18e7249566f831a5a",
            "placeholder": "​",
            "style": "IPY_MODEL_7c2cd735b07d4df08a70ebfe32511459",
            "value": " 232k/232k [00:00&lt;00:00, 2.86MB/s]"
          }
        },
        "566e06d527864ce385f319ab164f0b54": {
          "model_module": "@jupyter-widgets/base",
          "model_name": "LayoutModel",
          "model_module_version": "1.2.0",
          "state": {
            "_model_module": "@jupyter-widgets/base",
            "_model_module_version": "1.2.0",
            "_model_name": "LayoutModel",
            "_view_count": null,
            "_view_module": "@jupyter-widgets/base",
            "_view_module_version": "1.2.0",
            "_view_name": "LayoutView",
            "align_content": null,
            "align_items": null,
            "align_self": null,
            "border": null,
            "bottom": null,
            "display": null,
            "flex": null,
            "flex_flow": null,
            "grid_area": null,
            "grid_auto_columns": null,
            "grid_auto_flow": null,
            "grid_auto_rows": null,
            "grid_column": null,
            "grid_gap": null,
            "grid_row": null,
            "grid_template_areas": null,
            "grid_template_columns": null,
            "grid_template_rows": null,
            "height": null,
            "justify_content": null,
            "justify_items": null,
            "left": null,
            "margin": null,
            "max_height": null,
            "max_width": null,
            "min_height": null,
            "min_width": null,
            "object_fit": null,
            "object_position": null,
            "order": null,
            "overflow": null,
            "overflow_x": null,
            "overflow_y": null,
            "padding": null,
            "right": null,
            "top": null,
            "visibility": null,
            "width": null
          }
        },
        "16c558f99f25432486329895b37f0a83": {
          "model_module": "@jupyter-widgets/base",
          "model_name": "LayoutModel",
          "model_module_version": "1.2.0",
          "state": {
            "_model_module": "@jupyter-widgets/base",
            "_model_module_version": "1.2.0",
            "_model_name": "LayoutModel",
            "_view_count": null,
            "_view_module": "@jupyter-widgets/base",
            "_view_module_version": "1.2.0",
            "_view_name": "LayoutView",
            "align_content": null,
            "align_items": null,
            "align_self": null,
            "border": null,
            "bottom": null,
            "display": null,
            "flex": null,
            "flex_flow": null,
            "grid_area": null,
            "grid_auto_columns": null,
            "grid_auto_flow": null,
            "grid_auto_rows": null,
            "grid_column": null,
            "grid_gap": null,
            "grid_row": null,
            "grid_template_areas": null,
            "grid_template_columns": null,
            "grid_template_rows": null,
            "height": null,
            "justify_content": null,
            "justify_items": null,
            "left": null,
            "margin": null,
            "max_height": null,
            "max_width": null,
            "min_height": null,
            "min_width": null,
            "object_fit": null,
            "object_position": null,
            "order": null,
            "overflow": null,
            "overflow_x": null,
            "overflow_y": null,
            "padding": null,
            "right": null,
            "top": null,
            "visibility": null,
            "width": null
          }
        },
        "463da6fab74a4ffe983a59f4388a11f0": {
          "model_module": "@jupyter-widgets/controls",
          "model_name": "DescriptionStyleModel",
          "model_module_version": "1.5.0",
          "state": {
            "_model_module": "@jupyter-widgets/controls",
            "_model_module_version": "1.5.0",
            "_model_name": "DescriptionStyleModel",
            "_view_count": null,
            "_view_module": "@jupyter-widgets/base",
            "_view_module_version": "1.2.0",
            "_view_name": "StyleView",
            "description_width": ""
          }
        },
        "499a8763899840de9249fe4e3c73d4e3": {
          "model_module": "@jupyter-widgets/base",
          "model_name": "LayoutModel",
          "model_module_version": "1.2.0",
          "state": {
            "_model_module": "@jupyter-widgets/base",
            "_model_module_version": "1.2.0",
            "_model_name": "LayoutModel",
            "_view_count": null,
            "_view_module": "@jupyter-widgets/base",
            "_view_module_version": "1.2.0",
            "_view_name": "LayoutView",
            "align_content": null,
            "align_items": null,
            "align_self": null,
            "border": null,
            "bottom": null,
            "display": null,
            "flex": null,
            "flex_flow": null,
            "grid_area": null,
            "grid_auto_columns": null,
            "grid_auto_flow": null,
            "grid_auto_rows": null,
            "grid_column": null,
            "grid_gap": null,
            "grid_row": null,
            "grid_template_areas": null,
            "grid_template_columns": null,
            "grid_template_rows": null,
            "height": null,
            "justify_content": null,
            "justify_items": null,
            "left": null,
            "margin": null,
            "max_height": null,
            "max_width": null,
            "min_height": null,
            "min_width": null,
            "object_fit": null,
            "object_position": null,
            "order": null,
            "overflow": null,
            "overflow_x": null,
            "overflow_y": null,
            "padding": null,
            "right": null,
            "top": null,
            "visibility": null,
            "width": null
          }
        },
        "8e48594f0e52423da621c57f9935716f": {
          "model_module": "@jupyter-widgets/controls",
          "model_name": "ProgressStyleModel",
          "model_module_version": "1.5.0",
          "state": {
            "_model_module": "@jupyter-widgets/controls",
            "_model_module_version": "1.5.0",
            "_model_name": "ProgressStyleModel",
            "_view_count": null,
            "_view_module": "@jupyter-widgets/base",
            "_view_module_version": "1.2.0",
            "_view_name": "StyleView",
            "bar_color": null,
            "description_width": ""
          }
        },
        "e4f54c1167ad44d18e7249566f831a5a": {
          "model_module": "@jupyter-widgets/base",
          "model_name": "LayoutModel",
          "model_module_version": "1.2.0",
          "state": {
            "_model_module": "@jupyter-widgets/base",
            "_model_module_version": "1.2.0",
            "_model_name": "LayoutModel",
            "_view_count": null,
            "_view_module": "@jupyter-widgets/base",
            "_view_module_version": "1.2.0",
            "_view_name": "LayoutView",
            "align_content": null,
            "align_items": null,
            "align_self": null,
            "border": null,
            "bottom": null,
            "display": null,
            "flex": null,
            "flex_flow": null,
            "grid_area": null,
            "grid_auto_columns": null,
            "grid_auto_flow": null,
            "grid_auto_rows": null,
            "grid_column": null,
            "grid_gap": null,
            "grid_row": null,
            "grid_template_areas": null,
            "grid_template_columns": null,
            "grid_template_rows": null,
            "height": null,
            "justify_content": null,
            "justify_items": null,
            "left": null,
            "margin": null,
            "max_height": null,
            "max_width": null,
            "min_height": null,
            "min_width": null,
            "object_fit": null,
            "object_position": null,
            "order": null,
            "overflow": null,
            "overflow_x": null,
            "overflow_y": null,
            "padding": null,
            "right": null,
            "top": null,
            "visibility": null,
            "width": null
          }
        },
        "7c2cd735b07d4df08a70ebfe32511459": {
          "model_module": "@jupyter-widgets/controls",
          "model_name": "DescriptionStyleModel",
          "model_module_version": "1.5.0",
          "state": {
            "_model_module": "@jupyter-widgets/controls",
            "_model_module_version": "1.5.0",
            "_model_name": "DescriptionStyleModel",
            "_view_count": null,
            "_view_module": "@jupyter-widgets/base",
            "_view_module_version": "1.2.0",
            "_view_name": "StyleView",
            "description_width": ""
          }
        },
        "50c0f8b1ac7946f8a64d9cf8db06ac8c": {
          "model_module": "@jupyter-widgets/controls",
          "model_name": "HBoxModel",
          "model_module_version": "1.5.0",
          "state": {
            "_dom_classes": [],
            "_model_module": "@jupyter-widgets/controls",
            "_model_module_version": "1.5.0",
            "_model_name": "HBoxModel",
            "_view_count": null,
            "_view_module": "@jupyter-widgets/controls",
            "_view_module_version": "1.5.0",
            "_view_name": "HBoxView",
            "box_style": "",
            "children": [
              "IPY_MODEL_f4bd92cf4fed49debe418807c68168a7",
              "IPY_MODEL_abb895fc337f463db5d706e2dcf6acb9",
              "IPY_MODEL_230c8f771b174272b19800f9f548375e"
            ],
            "layout": "IPY_MODEL_431aa7ba6f2840a0990aa327dbe7d637"
          }
        },
        "f4bd92cf4fed49debe418807c68168a7": {
          "model_module": "@jupyter-widgets/controls",
          "model_name": "HTMLModel",
          "model_module_version": "1.5.0",
          "state": {
            "_dom_classes": [],
            "_model_module": "@jupyter-widgets/controls",
            "_model_module_version": "1.5.0",
            "_model_name": "HTMLModel",
            "_view_count": null,
            "_view_module": "@jupyter-widgets/controls",
            "_view_module_version": "1.5.0",
            "_view_name": "HTMLView",
            "description": "",
            "description_tooltip": null,
            "layout": "IPY_MODEL_b87bb1c746a446f79af5407f3d9612b8",
            "placeholder": "​",
            "style": "IPY_MODEL_64cd4750db03451386127f98e4d88717",
            "value": "tokenizer.json: 100%"
          }
        },
        "abb895fc337f463db5d706e2dcf6acb9": {
          "model_module": "@jupyter-widgets/controls",
          "model_name": "FloatProgressModel",
          "model_module_version": "1.5.0",
          "state": {
            "_dom_classes": [],
            "_model_module": "@jupyter-widgets/controls",
            "_model_module_version": "1.5.0",
            "_model_name": "FloatProgressModel",
            "_view_count": null,
            "_view_module": "@jupyter-widgets/controls",
            "_view_module_version": "1.5.0",
            "_view_name": "ProgressView",
            "bar_style": "success",
            "description": "",
            "description_tooltip": null,
            "layout": "IPY_MODEL_8e4daa8af62b403fad8cd69d16710c29",
            "max": 466062,
            "min": 0,
            "orientation": "horizontal",
            "style": "IPY_MODEL_28fe0e3de0cb4d279c2ef0ee922ca29e",
            "value": 466062
          }
        },
        "230c8f771b174272b19800f9f548375e": {
          "model_module": "@jupyter-widgets/controls",
          "model_name": "HTMLModel",
          "model_module_version": "1.5.0",
          "state": {
            "_dom_classes": [],
            "_model_module": "@jupyter-widgets/controls",
            "_model_module_version": "1.5.0",
            "_model_name": "HTMLModel",
            "_view_count": null,
            "_view_module": "@jupyter-widgets/controls",
            "_view_module_version": "1.5.0",
            "_view_name": "HTMLView",
            "description": "",
            "description_tooltip": null,
            "layout": "IPY_MODEL_117277a99999498da8263aa56e95007d",
            "placeholder": "​",
            "style": "IPY_MODEL_9d78d6c7d9f747638e192d3f618b5c5d",
            "value": " 466k/466k [00:00&lt;00:00, 6.66MB/s]"
          }
        },
        "431aa7ba6f2840a0990aa327dbe7d637": {
          "model_module": "@jupyter-widgets/base",
          "model_name": "LayoutModel",
          "model_module_version": "1.2.0",
          "state": {
            "_model_module": "@jupyter-widgets/base",
            "_model_module_version": "1.2.0",
            "_model_name": "LayoutModel",
            "_view_count": null,
            "_view_module": "@jupyter-widgets/base",
            "_view_module_version": "1.2.0",
            "_view_name": "LayoutView",
            "align_content": null,
            "align_items": null,
            "align_self": null,
            "border": null,
            "bottom": null,
            "display": null,
            "flex": null,
            "flex_flow": null,
            "grid_area": null,
            "grid_auto_columns": null,
            "grid_auto_flow": null,
            "grid_auto_rows": null,
            "grid_column": null,
            "grid_gap": null,
            "grid_row": null,
            "grid_template_areas": null,
            "grid_template_columns": null,
            "grid_template_rows": null,
            "height": null,
            "justify_content": null,
            "justify_items": null,
            "left": null,
            "margin": null,
            "max_height": null,
            "max_width": null,
            "min_height": null,
            "min_width": null,
            "object_fit": null,
            "object_position": null,
            "order": null,
            "overflow": null,
            "overflow_x": null,
            "overflow_y": null,
            "padding": null,
            "right": null,
            "top": null,
            "visibility": null,
            "width": null
          }
        },
        "b87bb1c746a446f79af5407f3d9612b8": {
          "model_module": "@jupyter-widgets/base",
          "model_name": "LayoutModel",
          "model_module_version": "1.2.0",
          "state": {
            "_model_module": "@jupyter-widgets/base",
            "_model_module_version": "1.2.0",
            "_model_name": "LayoutModel",
            "_view_count": null,
            "_view_module": "@jupyter-widgets/base",
            "_view_module_version": "1.2.0",
            "_view_name": "LayoutView",
            "align_content": null,
            "align_items": null,
            "align_self": null,
            "border": null,
            "bottom": null,
            "display": null,
            "flex": null,
            "flex_flow": null,
            "grid_area": null,
            "grid_auto_columns": null,
            "grid_auto_flow": null,
            "grid_auto_rows": null,
            "grid_column": null,
            "grid_gap": null,
            "grid_row": null,
            "grid_template_areas": null,
            "grid_template_columns": null,
            "grid_template_rows": null,
            "height": null,
            "justify_content": null,
            "justify_items": null,
            "left": null,
            "margin": null,
            "max_height": null,
            "max_width": null,
            "min_height": null,
            "min_width": null,
            "object_fit": null,
            "object_position": null,
            "order": null,
            "overflow": null,
            "overflow_x": null,
            "overflow_y": null,
            "padding": null,
            "right": null,
            "top": null,
            "visibility": null,
            "width": null
          }
        },
        "64cd4750db03451386127f98e4d88717": {
          "model_module": "@jupyter-widgets/controls",
          "model_name": "DescriptionStyleModel",
          "model_module_version": "1.5.0",
          "state": {
            "_model_module": "@jupyter-widgets/controls",
            "_model_module_version": "1.5.0",
            "_model_name": "DescriptionStyleModel",
            "_view_count": null,
            "_view_module": "@jupyter-widgets/base",
            "_view_module_version": "1.2.0",
            "_view_name": "StyleView",
            "description_width": ""
          }
        },
        "8e4daa8af62b403fad8cd69d16710c29": {
          "model_module": "@jupyter-widgets/base",
          "model_name": "LayoutModel",
          "model_module_version": "1.2.0",
          "state": {
            "_model_module": "@jupyter-widgets/base",
            "_model_module_version": "1.2.0",
            "_model_name": "LayoutModel",
            "_view_count": null,
            "_view_module": "@jupyter-widgets/base",
            "_view_module_version": "1.2.0",
            "_view_name": "LayoutView",
            "align_content": null,
            "align_items": null,
            "align_self": null,
            "border": null,
            "bottom": null,
            "display": null,
            "flex": null,
            "flex_flow": null,
            "grid_area": null,
            "grid_auto_columns": null,
            "grid_auto_flow": null,
            "grid_auto_rows": null,
            "grid_column": null,
            "grid_gap": null,
            "grid_row": null,
            "grid_template_areas": null,
            "grid_template_columns": null,
            "grid_template_rows": null,
            "height": null,
            "justify_content": null,
            "justify_items": null,
            "left": null,
            "margin": null,
            "max_height": null,
            "max_width": null,
            "min_height": null,
            "min_width": null,
            "object_fit": null,
            "object_position": null,
            "order": null,
            "overflow": null,
            "overflow_x": null,
            "overflow_y": null,
            "padding": null,
            "right": null,
            "top": null,
            "visibility": null,
            "width": null
          }
        },
        "28fe0e3de0cb4d279c2ef0ee922ca29e": {
          "model_module": "@jupyter-widgets/controls",
          "model_name": "ProgressStyleModel",
          "model_module_version": "1.5.0",
          "state": {
            "_model_module": "@jupyter-widgets/controls",
            "_model_module_version": "1.5.0",
            "_model_name": "ProgressStyleModel",
            "_view_count": null,
            "_view_module": "@jupyter-widgets/base",
            "_view_module_version": "1.2.0",
            "_view_name": "StyleView",
            "bar_color": null,
            "description_width": ""
          }
        },
        "117277a99999498da8263aa56e95007d": {
          "model_module": "@jupyter-widgets/base",
          "model_name": "LayoutModel",
          "model_module_version": "1.2.0",
          "state": {
            "_model_module": "@jupyter-widgets/base",
            "_model_module_version": "1.2.0",
            "_model_name": "LayoutModel",
            "_view_count": null,
            "_view_module": "@jupyter-widgets/base",
            "_view_module_version": "1.2.0",
            "_view_name": "LayoutView",
            "align_content": null,
            "align_items": null,
            "align_self": null,
            "border": null,
            "bottom": null,
            "display": null,
            "flex": null,
            "flex_flow": null,
            "grid_area": null,
            "grid_auto_columns": null,
            "grid_auto_flow": null,
            "grid_auto_rows": null,
            "grid_column": null,
            "grid_gap": null,
            "grid_row": null,
            "grid_template_areas": null,
            "grid_template_columns": null,
            "grid_template_rows": null,
            "height": null,
            "justify_content": null,
            "justify_items": null,
            "left": null,
            "margin": null,
            "max_height": null,
            "max_width": null,
            "min_height": null,
            "min_width": null,
            "object_fit": null,
            "object_position": null,
            "order": null,
            "overflow": null,
            "overflow_x": null,
            "overflow_y": null,
            "padding": null,
            "right": null,
            "top": null,
            "visibility": null,
            "width": null
          }
        },
        "9d78d6c7d9f747638e192d3f618b5c5d": {
          "model_module": "@jupyter-widgets/controls",
          "model_name": "DescriptionStyleModel",
          "model_module_version": "1.5.0",
          "state": {
            "_model_module": "@jupyter-widgets/controls",
            "_model_module_version": "1.5.0",
            "_model_name": "DescriptionStyleModel",
            "_view_count": null,
            "_view_module": "@jupyter-widgets/base",
            "_view_module_version": "1.2.0",
            "_view_name": "StyleView",
            "description_width": ""
          }
        },
        "9ff88578a19c430dbea06f8f466cdf19": {
          "model_module": "@jupyter-widgets/controls",
          "model_name": "HBoxModel",
          "model_module_version": "1.5.0",
          "state": {
            "_dom_classes": [],
            "_model_module": "@jupyter-widgets/controls",
            "_model_module_version": "1.5.0",
            "_model_name": "HBoxModel",
            "_view_count": null,
            "_view_module": "@jupyter-widgets/controls",
            "_view_module_version": "1.5.0",
            "_view_name": "HBoxView",
            "box_style": "",
            "children": [
              "IPY_MODEL_b52e57d44c2449c3bfc7496d916406cf",
              "IPY_MODEL_ea61e91044874c8aa8aad537ed98b541",
              "IPY_MODEL_622bea56bcec4ca2811d7ee780fbf924"
            ],
            "layout": "IPY_MODEL_c6fe07e207a14288961a972bcd9ab821"
          }
        },
        "b52e57d44c2449c3bfc7496d916406cf": {
          "model_module": "@jupyter-widgets/controls",
          "model_name": "HTMLModel",
          "model_module_version": "1.5.0",
          "state": {
            "_dom_classes": [],
            "_model_module": "@jupyter-widgets/controls",
            "_model_module_version": "1.5.0",
            "_model_name": "HTMLModel",
            "_view_count": null,
            "_view_module": "@jupyter-widgets/controls",
            "_view_module_version": "1.5.0",
            "_view_name": "HTMLView",
            "description": "",
            "description_tooltip": null,
            "layout": "IPY_MODEL_7edfd91e9a2d40a1ab5c27df0bd9e36c",
            "placeholder": "​",
            "style": "IPY_MODEL_8c501709dabe410bb1266cffc91ea203",
            "value": "config.json: 100%"
          }
        },
        "ea61e91044874c8aa8aad537ed98b541": {
          "model_module": "@jupyter-widgets/controls",
          "model_name": "FloatProgressModel",
          "model_module_version": "1.5.0",
          "state": {
            "_dom_classes": [],
            "_model_module": "@jupyter-widgets/controls",
            "_model_module_version": "1.5.0",
            "_model_name": "FloatProgressModel",
            "_view_count": null,
            "_view_module": "@jupyter-widgets/controls",
            "_view_module_version": "1.5.0",
            "_view_name": "ProgressView",
            "bar_style": "success",
            "description": "",
            "description_tooltip": null,
            "layout": "IPY_MODEL_325902af8ea44f83949719ae19cb5183",
            "max": 483,
            "min": 0,
            "orientation": "horizontal",
            "style": "IPY_MODEL_fd0a9be9383a410da072fa8643976ae1",
            "value": 483
          }
        },
        "622bea56bcec4ca2811d7ee780fbf924": {
          "model_module": "@jupyter-widgets/controls",
          "model_name": "HTMLModel",
          "model_module_version": "1.5.0",
          "state": {
            "_dom_classes": [],
            "_model_module": "@jupyter-widgets/controls",
            "_model_module_version": "1.5.0",
            "_model_name": "HTMLModel",
            "_view_count": null,
            "_view_module": "@jupyter-widgets/controls",
            "_view_module_version": "1.5.0",
            "_view_name": "HTMLView",
            "description": "",
            "description_tooltip": null,
            "layout": "IPY_MODEL_351cffd14d614e6bb7ba7cd52a78a9b6",
            "placeholder": "​",
            "style": "IPY_MODEL_0141f480c0ba4810ad844d7da4361792",
            "value": " 483/483 [00:00&lt;00:00, 8.71kB/s]"
          }
        },
        "c6fe07e207a14288961a972bcd9ab821": {
          "model_module": "@jupyter-widgets/base",
          "model_name": "LayoutModel",
          "model_module_version": "1.2.0",
          "state": {
            "_model_module": "@jupyter-widgets/base",
            "_model_module_version": "1.2.0",
            "_model_name": "LayoutModel",
            "_view_count": null,
            "_view_module": "@jupyter-widgets/base",
            "_view_module_version": "1.2.0",
            "_view_name": "LayoutView",
            "align_content": null,
            "align_items": null,
            "align_self": null,
            "border": null,
            "bottom": null,
            "display": null,
            "flex": null,
            "flex_flow": null,
            "grid_area": null,
            "grid_auto_columns": null,
            "grid_auto_flow": null,
            "grid_auto_rows": null,
            "grid_column": null,
            "grid_gap": null,
            "grid_row": null,
            "grid_template_areas": null,
            "grid_template_columns": null,
            "grid_template_rows": null,
            "height": null,
            "justify_content": null,
            "justify_items": null,
            "left": null,
            "margin": null,
            "max_height": null,
            "max_width": null,
            "min_height": null,
            "min_width": null,
            "object_fit": null,
            "object_position": null,
            "order": null,
            "overflow": null,
            "overflow_x": null,
            "overflow_y": null,
            "padding": null,
            "right": null,
            "top": null,
            "visibility": null,
            "width": null
          }
        },
        "7edfd91e9a2d40a1ab5c27df0bd9e36c": {
          "model_module": "@jupyter-widgets/base",
          "model_name": "LayoutModel",
          "model_module_version": "1.2.0",
          "state": {
            "_model_module": "@jupyter-widgets/base",
            "_model_module_version": "1.2.0",
            "_model_name": "LayoutModel",
            "_view_count": null,
            "_view_module": "@jupyter-widgets/base",
            "_view_module_version": "1.2.0",
            "_view_name": "LayoutView",
            "align_content": null,
            "align_items": null,
            "align_self": null,
            "border": null,
            "bottom": null,
            "display": null,
            "flex": null,
            "flex_flow": null,
            "grid_area": null,
            "grid_auto_columns": null,
            "grid_auto_flow": null,
            "grid_auto_rows": null,
            "grid_column": null,
            "grid_gap": null,
            "grid_row": null,
            "grid_template_areas": null,
            "grid_template_columns": null,
            "grid_template_rows": null,
            "height": null,
            "justify_content": null,
            "justify_items": null,
            "left": null,
            "margin": null,
            "max_height": null,
            "max_width": null,
            "min_height": null,
            "min_width": null,
            "object_fit": null,
            "object_position": null,
            "order": null,
            "overflow": null,
            "overflow_x": null,
            "overflow_y": null,
            "padding": null,
            "right": null,
            "top": null,
            "visibility": null,
            "width": null
          }
        },
        "8c501709dabe410bb1266cffc91ea203": {
          "model_module": "@jupyter-widgets/controls",
          "model_name": "DescriptionStyleModel",
          "model_module_version": "1.5.0",
          "state": {
            "_model_module": "@jupyter-widgets/controls",
            "_model_module_version": "1.5.0",
            "_model_name": "DescriptionStyleModel",
            "_view_count": null,
            "_view_module": "@jupyter-widgets/base",
            "_view_module_version": "1.2.0",
            "_view_name": "StyleView",
            "description_width": ""
          }
        },
        "325902af8ea44f83949719ae19cb5183": {
          "model_module": "@jupyter-widgets/base",
          "model_name": "LayoutModel",
          "model_module_version": "1.2.0",
          "state": {
            "_model_module": "@jupyter-widgets/base",
            "_model_module_version": "1.2.0",
            "_model_name": "LayoutModel",
            "_view_count": null,
            "_view_module": "@jupyter-widgets/base",
            "_view_module_version": "1.2.0",
            "_view_name": "LayoutView",
            "align_content": null,
            "align_items": null,
            "align_self": null,
            "border": null,
            "bottom": null,
            "display": null,
            "flex": null,
            "flex_flow": null,
            "grid_area": null,
            "grid_auto_columns": null,
            "grid_auto_flow": null,
            "grid_auto_rows": null,
            "grid_column": null,
            "grid_gap": null,
            "grid_row": null,
            "grid_template_areas": null,
            "grid_template_columns": null,
            "grid_template_rows": null,
            "height": null,
            "justify_content": null,
            "justify_items": null,
            "left": null,
            "margin": null,
            "max_height": null,
            "max_width": null,
            "min_height": null,
            "min_width": null,
            "object_fit": null,
            "object_position": null,
            "order": null,
            "overflow": null,
            "overflow_x": null,
            "overflow_y": null,
            "padding": null,
            "right": null,
            "top": null,
            "visibility": null,
            "width": null
          }
        },
        "fd0a9be9383a410da072fa8643976ae1": {
          "model_module": "@jupyter-widgets/controls",
          "model_name": "ProgressStyleModel",
          "model_module_version": "1.5.0",
          "state": {
            "_model_module": "@jupyter-widgets/controls",
            "_model_module_version": "1.5.0",
            "_model_name": "ProgressStyleModel",
            "_view_count": null,
            "_view_module": "@jupyter-widgets/base",
            "_view_module_version": "1.2.0",
            "_view_name": "StyleView",
            "bar_color": null,
            "description_width": ""
          }
        },
        "351cffd14d614e6bb7ba7cd52a78a9b6": {
          "model_module": "@jupyter-widgets/base",
          "model_name": "LayoutModel",
          "model_module_version": "1.2.0",
          "state": {
            "_model_module": "@jupyter-widgets/base",
            "_model_module_version": "1.2.0",
            "_model_name": "LayoutModel",
            "_view_count": null,
            "_view_module": "@jupyter-widgets/base",
            "_view_module_version": "1.2.0",
            "_view_name": "LayoutView",
            "align_content": null,
            "align_items": null,
            "align_self": null,
            "border": null,
            "bottom": null,
            "display": null,
            "flex": null,
            "flex_flow": null,
            "grid_area": null,
            "grid_auto_columns": null,
            "grid_auto_flow": null,
            "grid_auto_rows": null,
            "grid_column": null,
            "grid_gap": null,
            "grid_row": null,
            "grid_template_areas": null,
            "grid_template_columns": null,
            "grid_template_rows": null,
            "height": null,
            "justify_content": null,
            "justify_items": null,
            "left": null,
            "margin": null,
            "max_height": null,
            "max_width": null,
            "min_height": null,
            "min_width": null,
            "object_fit": null,
            "object_position": null,
            "order": null,
            "overflow": null,
            "overflow_x": null,
            "overflow_y": null,
            "padding": null,
            "right": null,
            "top": null,
            "visibility": null,
            "width": null
          }
        },
        "0141f480c0ba4810ad844d7da4361792": {
          "model_module": "@jupyter-widgets/controls",
          "model_name": "DescriptionStyleModel",
          "model_module_version": "1.5.0",
          "state": {
            "_model_module": "@jupyter-widgets/controls",
            "_model_module_version": "1.5.0",
            "_model_name": "DescriptionStyleModel",
            "_view_count": null,
            "_view_module": "@jupyter-widgets/base",
            "_view_module_version": "1.2.0",
            "_view_name": "StyleView",
            "description_width": ""
          }
        }
      }
    }
  },
  "cells": [
    {
      "cell_type": "markdown",
      "metadata": {
        "id": "view-in-github",
        "colab_type": "text"
      },
      "source": [
        "<a href=\"https://colab.research.google.com/github/Jwaminju/docs/blob/main/2024%20OSSCA/Hugging_Face_2%EC%A3%BC%EC%B0%A8_%EB%AC%B8%EC%A0%9C_ipynb%EC%9D%98_%EC%82%AC%EB%B3%B8.ipynb\" target=\"_parent\"><img src=\"https://colab.research.google.com/assets/colab-badge.svg\" alt=\"Open In Colab\"/></a>"
      ]
    },
    {
      "cell_type": "markdown",
      "source": [
        "# Hugging Face Transformers 실습하며 배우기 🤗"
      ],
      "metadata": {
        "id": "MgdWlhtgkspP"
      }
    },
    {
      "cell_type": "markdown",
      "source": [
        "작성자: Hugging Face KREW, [김하림](https://github.com/harheem)"
      ],
      "metadata": {
        "id": "aNrBlQ8AwHQ9"
      }
    },
    {
      "cell_type": "markdown",
      "source": [
        "트랜스포머 기반의 사전 학습 모델의 뛰어난 점은 엄청난 양의 텍스트 데이터를 사용해 단어와 문장의 관계를 스스로 학습한다는 점이에요. 책, 뉴스, 웹 문서 등 다양한 텍스트를 분석하며 언어의 구조와 의미를 이해하게 된답니다.\n",
        "\n",
        "하지만 이렇게 학습한 모델을 특정 작업에 활용하려면 추가 학습이 필요할 수 있어요. 이를 '파인튜닝'이라고 합니다. 파인튜닝은 적은 양의 labeled 데이터를 사용해 모델을 우리가 원하는 작업에 맞게 조정하는 과정을 의미해요.\n",
        "\n",
        "이번 주에는 이러한 파인튜닝을 위한 데이터셋을 어떻게 준비하는지 배워보도록 할게요. 좋은 데이터셋을 만드는 것이 정확한 모델을 얻는 첫 걸음이니까요 🤗"
      ],
      "metadata": {
        "id": "5f8g1LLZpRT9"
      }
    },
    {
      "cell_type": "markdown",
      "source": [
        "### #문제 004\n",
        "\n",
        "[IMDB 데이터세트](https://huggingface.co/datasets/stanfordnlp/imdb)는 영화 리뷰 코멘트의 긍정적/부정적 감성을 판단하기 위해 사용하는 감성 분석 데이터세트입니다. 데이터세트 구성은 다음과 같아요.\n",
        "- 25,000개 학습 데이터 (텍스트 및 레이블)\n",
        "- 25,000개 테스트 데이터 (텍스트 및 레이블)\n",
        "\n",
        "이 50,000개 데이터세트를 다운로드하는 코드를 작성해보세요. 그리고 학습과 테스트를 위해 랜덤하게 1,000개씩 데이터를 추출해보세요."
      ],
      "metadata": {
        "id": "cOXvKkjPk1Fq"
      }
    },
    {
      "cell_type": "markdown",
      "source": [
        "💡 HINT\n",
        "\n",
        "1.\t필요한 라이브러리 설치:\n",
        "\n",
        "  먼저, Hugging Face의 🤗 datasets 라이브러리를 설치해야 합니다. 커맨드 라인에서 다음 명령어를 실행하세요.\n",
        "\n",
        "  `!pip install datasets`\n",
        "2. `load_dataset()`을 이용하여 데이터세트 불러오세요.\n",
        "\n",
        "  ```python\n",
        "    from datasets import load_dataset\n",
        "    dataset = load_dataset('여기에 데이터세트 이름을 넣어보세요')\n",
        "  ```\n",
        "  \n",
        "3. datasets의 shuffle() 메소드와 select() 메소드를 사용하여 데이터를 추출해보세요.\n",
        "  ```python\n",
        "    dataset['train'].shuffle(seed=seed).select(range(n))\n",
        "  ```\n",
        "\n",
        "> 못 풀겠어도 걱정하지 마세요. [이 문서](https://huggingface.co/docs/datasets/main/en/loading)에서 답을 찾을 수 있어요 👀"
      ],
      "metadata": {
        "id": "KETES-Fd7ZEW"
      }
    },
    {
      "cell_type": "code",
      "execution_count": 3,
      "metadata": {
        "id": "FlGwqxXKkpwG"
      },
      "outputs": [],
      "source": [
        "# 필요한 라이브러리 불러오기\n",
        "# !pip install datasets\n",
        "\n",
        "# 데이터 불러오기\n",
        "from datasets import load_dataset\n",
        "dataset = load_dataset('imdb')\n",
        "len(dataset['train'])\n",
        "\n",
        "# 데이터 추출하기\n",
        "train_dataset = dataset['train'].shuffle(seed=42).select(range(25000))\n",
        "test_dataset = dataset['test'].shuffle(seed=42).select(range(25000))"
      ]
    },
    {
      "cell_type": "code",
      "source": [
        "# 학습 데이터셋에서 첫 번째 샘플 출력\n",
        "print(\"\\n학습 데이터 샘플:\")\n",
        "print(train_dataset[0])\n",
        "\n",
        "# 테스트 데이터셋에서 첫 번째 샘플 출력\n",
        "print(\"\\n테스트 데이터 샘플:\")\n",
        "print(test_dataset[0])"
      ],
      "metadata": {
        "id": "UGoWHr7U1vl8",
        "colab": {
          "base_uri": "https://localhost:8080/"
        },
        "outputId": "2c83d482-3bf1-4c51-cf99-3e2ac0f0d02f"
      },
      "execution_count": 4,
      "outputs": [
        {
          "output_type": "stream",
          "name": "stdout",
          "text": [
            "\n",
            "학습 데이터 샘플:\n",
            "{'text': 'There is no relation at all between Fortier and Profiler but the fact that both are police series about violent crimes. Profiler looks crispy, Fortier looks classic. Profiler plots are quite simple. Fortier\\'s plot are far more complicated... Fortier looks more like Prime Suspect, if we have to spot similarities... The main character is weak and weirdo, but have \"clairvoyance\". People like to compare, to judge, to evaluate. How about just enjoying? Funny thing too, people writing Fortier looks American but, on the other hand, arguing they prefer American series (!!!). Maybe it\\'s the language, or the spirit, but I think this series is more English than American. By the way, the actors are really good and funny. The acting is not superficial at all...', 'label': 1}\n",
            "\n",
            "테스트 데이터 샘플:\n",
            "{'text': \"<br /><br />When I unsuspectedly rented A Thousand Acres, I thought I was in for an entertaining King Lear story and of course Michelle Pfeiffer was in it, so what could go wrong?<br /><br />Very quickly, however, I realized that this story was about A Thousand Other Things besides just Acres. I started crying and couldn't stop until long after the movie ended. Thank you Jane, Laura and Jocelyn, for bringing us such a wonderfully subtle and compassionate movie! Thank you cast, for being involved and portraying the characters with such depth and gentleness!<br /><br />I recognized the Angry sister; the Runaway sister and the sister in Denial. I recognized the Abusive Husband and why he was there and then the Father, oh oh the Father... all superbly played. I also recognized myself and this movie was an eye-opener, a relief, a chance to face my OWN truth and finally doing something about it. I truly hope A Thousand Acres has had the same effect on some others out there.<br /><br />Since I didn't understand why the cover said the film was about sisters fighting over land -they weren't fighting each other at all- I watched it a second time. Then I was able to see that if one hadn't lived a similar story, one would easily miss the overwhelming undercurrent of dread and fear and the deep bond between the sisters that runs through it all. That is exactly the reason why people in general often overlook the truth about their neighbors for instance.<br /><br />But yet another reason why this movie is so perfect!<br /><br />I don't give a rat's ass (pardon my French) about to what extend the King Lear story is followed. All I know is that I can honestly say: this movie has changed my life.<br /><br />Keep up the good work guys, you CAN and DO make a difference.<br /><br />\", 'label': 1}\n"
          ]
        }
      ]
    },
    {
      "cell_type": "markdown",
      "source": [
        "### #문제 005\n",
        "\n",
        "문제 005에서 negative `'0'`과 positive `'1'`로 인코딩된 1,000개의 학습 데이터 중에서 800개는 학습 `training` 용도로, 200개는 검증 `validation` 용도로 랜덤하게 나누어 보세요.\n",
        "\n",
        "\n",
        "> 1,000개의 데이터를 800개의 학습용과 200개의 검증용으로 나누는 이유는 모델의 효과적인 학습과 평가를 위해서입니다. 학습 데이터로 모델을 훈련시키고, 검증 데이터로 모델의 성능을 평가합니다. 이렇게 분리함으로써 모델이 학습 데이터만을 '외우는' 과적합을 방지하고, 새로운 데이터에 대한 일반화 능력을 확인할 수 있습니다. 또한, 검증 결과를 바탕으로 모델의 하이퍼파라미터를 조정하여 성능을 개선할 수 있습니다. 이는 머신러닝 모델 개발에서 중요한 과정으로, 더 견고하고 신뢰할 수 있는 모델을 만드는 데 도움이 됩니다."
      ],
      "metadata": {
        "id": "xRJ4M1gdA1cy"
      }
    },
    {
      "cell_type": "markdown",
      "source": [
        "💡 HINT\n",
        "\n",
        "1. `train_test_split()` 메소드를 사용하여 학습 데이터를 8:2로 나누어보세요.\n",
        "\n",
        "2. `train_test_split()` 메소드에서 사용하는 [파라미터를 확인](https://huggingface.co/docs/datasets/v2.20.0/en/package_reference/main_classes#datasets.Dataset.train_test_split)하고 데이터를 나누는 다양한 방법에 대해 익혀보세요.\n",
        "\n",
        "> 못 풀겠어도 걱정하지 마세요. [이 문서](https://huggingface.co/docs/datasets/process#split)에서 답을 찾을 수 있어요 👀"
      ],
      "metadata": {
        "id": "hqyq4Fkfu4pq"
      }
    },
    {
      "cell_type": "code",
      "source": [
        "# 학습 데이터를 8:2 비율로 나누기\n",
        "split_dataset = dataset['train'].train_test_split(train_size=0.8, test_size=0.2)\n",
        "\n",
        "# split_dataset에서 훈련 데이터, 검증 데이터 가져오기\n",
        "train_dataset = split_dataset['train']\n",
        "valid_dataset = split_dataset['test']\n",
        "\n",
        "# 결과 확인\n",
        "print(\"학습 데이터 크기:\", len(train_dataset))\n",
        "print(\"검증 데이터 크기:\", len(valid_dataset))\n",
        "\n",
        "# 학습 데이터의 일부 샘플 출력\n",
        "print(\"\\n학습 데이터 샘플:\")\n",
        "print(train_dataset[:5])\n",
        "\n",
        "# 검증 데이터의 일부 샘플 출력\n",
        "print(\"\\n검증 데이터 샘플:\")\n",
        "print(valid_dataset[:5])"
      ],
      "metadata": {
        "id": "OYG1b1IgBUiX",
        "colab": {
          "base_uri": "https://localhost:8080/"
        },
        "outputId": "a4aa632a-1f7a-439c-d4b7-d878d324e9c1"
      },
      "execution_count": 5,
      "outputs": [
        {
          "output_type": "stream",
          "name": "stdout",
          "text": [
            "학습 데이터 크기: 20000\n",
            "검증 데이터 크기: 5000\n",
            "\n",
            "학습 데이터 샘플:\n",
            "{'text': [\"As in Amelie, recent French films seem to be taking a stereotypical male-female relationship slant, centered on a female finding her one true love. In this case, desperation leads to a convict, which leads to her evolution into a mob prototype. Clever and surprising story in many ways, except that the female is there to support the male.<br /><br />For those of us that don't speak French, the subtitles are a little quick, but not unreasonable.<br /><br />The soundtrack, as seems to be increasingly the case with European films, is great and in perfect sync with the film's variations. Nothing seems forced. Visually, it reminds me of various urban horror movies. There's a Wes Craven in Chicago feel to it.\", 'Of all the breakdancing / hip-hop films released between 1983 and 1986, the 1984 film Beat Street is unquestionably the best one. The story follows a DJ, his younger breakdancing brother, a graffiti artist and a wanna-be showbiz promoter through one winter in which they try to break out of the ghetto using their \"street\" talent. The acting isn\\'t always up to par and the characters aren\\'t fully drawn out, but they are more than compensated for by down-to-earth dialogue, a plausible story, fantastic dancing sequences and a timeless hip-hop sound track. It should be noted this film was shot in the birthplace of breakdancing (\"This ain\\'t New York, this is the Bronx!\"), and features appearances by the fathers of breakdancing, dance troupe Rock Steady Crew and rapper Afrika Bambaata. Rock Steady Crew provide the best scene in the film when they dominate a dance battle at the premiere breakdancing club of the early 80\\'s, the Roxy. A must see for hip-hop lovers.', \"This one is just like the 6th movie. The movie is really bad. It offers nothing in the death department. The one-liners are bad and are something that shouldn't be in a NOES movie. Freddy comes off as a happy child in the whole movie. Lisa Wilcox is still the only thing that makes this one worth while. The characters are extremely underdeveloped. All in all better than the 6th one, but still one the worst movies of the series. My rating 2/10\", 'If you would like to see a film of different kind, if you feel the Love in your heart, even if you miss the Lord, this film makes you think. Although Georges is mentally handicapped, you can see the ultimate intelligence at the end, when love gives you directions not the brain. I am not emotional, but this film makes you feel the human being. The film is as good as Forrest Gump in my belief. The foreign movies are sometimes more interesting, yet there is not enough advertisement to make them popular. \"Rang-e khoda\" (The Color of The God) by Majid Majidi is another example of such foreign movies, almost with similar taste.', 'I like films that don\\'t provide the typical \"happy ending,\" and that\\'s my main reason for my liking of this movie. Alice Marano (Danes) and her best friend Darlene (Beckinsale) are arrested in Thailand for narcotics smuggling after a tip anonymously phoned in to the Thai authorities. The film does a solid job of keeping viewers guessing as to whether (or which) of the girls was involved, and Bill Pullman is perfect as their sleazy lawyer. Jacqueline Kim turns in a terrific performance as his more kind, magnanimous wife, Yon, who is also an attorney. I wish the girls had been abused more in the prison, as another commenter has suggested, as I\\'ve heard that Thai prisons can be quite brutal. Where this film grabs me, however, is its ending. Alice subjects herself to a sentence of 96 years in total so that Darlene can be pardoned, and we (the viewers) realize that they are both innocent. Any film that defies my expectation of the ending wins extra points with me, and this well-acted drama is certainly deserving.'], 'label': [1, 1, 0, 1, 1]}\n",
            "\n",
            "검증 데이터 샘플:\n",
            "{'text': [\"Back in the day if Marion Davies had had her druthers and didn't just listen to William Randolph Hearst, she'd have done more films like Show People and been a lot happier. In fact when you see her get her first big break in two reel comedy, she'd have loved to have done that in her career instead of such epics like When Knighthood Was In Flower and Janice Meredith. <br /><br />What you're seeing by all accounts in Show People is the real Davies, a gifted comedienne, a superb mimic and a generous good hearted person. She could really identify with the character of Peggy Pepper aka Patricia Prepoire, she put up with her share of pretense in her Hollywood stardom.<br /><br />If the plot of Show People was set in the legitimate stage you would call it a backstage story. I guess it being one of the first movies about the movies you could call it a behind the camera story. Marion is eager young hopeful who arrives in Hollywood like so many others, looking for that big break. She wants to drama, but her introduction to the movies is as the foil for the burlesque comics. She gets her share of pie and seltzer in the face, but learns her trade. And also wins the heart of young comic actor William Haines.<br /><br />She does get her first big break, but it doesn't come for Haines as well and Marion does get to do legitimate drama with actor Paul Ralli, playing Andre Telfair, a pretend no account Count of Avignon. Somebody here was taking a shot at actor Lou Tellegen, lover and husband of Sarah Bernhardt and Geraldine Farrar and others and to hear tell of it, one of the most despised people in cinema.<br /><br />Show People was one of the first films to have the unbilled cameo appearances of stars as themselves. You will get to see folks like Charlie Chaplin, Douglas Fairbanks, William S. Hart, Mae Murray, John Gilbert, Eleanor Boardman etc., just being themselves in and around the film colony. That in itself makes Show People a film worth saving.<br /><br />Show People also made good use of standard Tin Pan Alley songs like, Ain't We Got Fun, I'm Sitting On Top Of The World, You'd Be Surprised, California, Here I Come. As the film came out on the cusp of sound being introduced, a song called Crossroads was introduced in it. It's not a bad number, but no credit is given to the boy and girl singing it in the soundtrack. I guess since they're not seen, it was felt no billing was necessary. Still I'd like to know and I'm sure you would to if you are fortunate enough to see Show People.<br /><br />It's easy to see why Marion Davies liked this film so much and considered it a personal favorite. She looks so at home in this film and her real life lack of pretense shines through in her performance which makes it a real treat for the audience.\", 'Sigh\\x85 I sincerely wonder why all the acclaimed and supposedly profound movie critics hold such a grudge against director Michael Winner? Surely he isn\\'t the avatar of subtlety, as his films are practically always hard-handed and confronting, but so what? They\\'re awesomely entertaining. His most famous action movies, like the first three entries in the \"Death Wish\"-series for example, are easy targets to clobber down because they allegedly glorify violence and the personal use of shotguns, but even when Winner takes on far more mature cinema genres \\x96 like the religious horrors of \"The Sentinel\" for example \\x96 he doesn\\'t stand a chance with any of the critics. \"The Sentinel\" generated some controversy and infuriated several people upon its release, when it leaked that Michael Winner cast genuinely malformed and handicapped people to portray the creatures attempting to cross the gateways between hell and earth. Pretty much the exact same controversy caused Todd\\'s Browning\\'s masterpiece and landmark in horror cinema \"Freaks\" to remain banned and unseen for over thirty years! And why? Just because certain prudish and easily offended people, who shouldn\\'t watch the movie in the first place, claim it\\'s an unethical thing to do? I don\\'t suppose Michael Winner or Todd Browning held these people at gunpoint or forced them to appear in their films, so what gives us the right to feel embarrassed in their place? Another major reason why critics didn\\'t warmly welcome \"The Sentinel\" is because Jeffrey Konvitz\\' novel \\x96 and thus Michael Winner\\'s screenplay \\x96 is hugely derivative of other contemporary but far more successful religiously themed horror stories and thus, according to the merciless pens of horror critics, little more than pure plagiarism. Admittedly \"The Sentinel\" borrows multiple substantial elements from \"Rosemary\\'s Baby\", \"The Omen\" and \"The Exorcist\", but let\\'s face it, 70\\'s cinema largely thrives on stolen formulas and imitating success stories. If you overlook the slightly unoriginal concept and, in all fairness, a handful of thoroughly confusing and unnecessary sub plots, \"The Sentinel\" honestly still remains a uniquely atmospheric and often downright petrifying 70\\'s horror-highlight with an impressive ensemble cast and nightmarish imagery you\\'re not likely to forget easy.<br /><br />Alison Parker, a ravishing model with some unprocessed mental traumas, moves into a stunning brownstone apartment in Brooklyn, deeply against the will of her boyfriend Michael who proposed to wed her several times already. Alison\\'s physical existence and especially her mental condition drastically alter shortly after, and the ominous apartment appears to be the root of all misery. She meets eccentric neighbors and attends birthday parties for their cats, even though the landlady claims she and a blind priest are the only tenants. She frequently faints during her work assignments and has truly creepy visions of her bastard father and the night she attempted to commit suicide. It slowly becomes clear that Alison got chosen to serve a higher supernatural purpose inside this apartment building, but simultaneously malignant forces try and prevent this. It\\'s truly regrettable how the promotional taglines and even brief synopsis on the back of the DVD immediately reveal that Alison\\'s brownstone apartment is the earth\\'s gateway to hell itself and she\\'s the chosen one to guard it, because the film\\'s script only slowly builds up towards this shocking revelation. For nearly 75 minutes (and throughout some sadly tedious and overlong sequences) Michael Winner successfully maintains the impression that Alison\\'s own mind is playing tricks with her and that the involvement of the Catholic Church and her fiancée\\'s odd behavior are strictly red herrings. Multiple of the horrific scenes come pretty close to being genius, like Alison\\'s flashback or her first acquaintance with the priest upstairs. The whole climax, with the controversial guest appearances mentioned here above, is a literally perplexing showcase of pure terror and easily one of the most unforgettable and nail-biting denouements I ever witnessed.<br /><br />The cast Michael Winner managed to gather is deeply impressive, especially considering \"The Sentinel\" still remains a legitimate horror movie and this genre isn\\'t the most popular among prominent actors, but of course you also have to put the cast listing a little into perspective. With such an extended cast, obviously several of the roles in the film are little more than cameos. Martin Balsam and John Carradine, for example, only appear on screen for a couple of minutes all together. Several others (like Christopher Walken, Jeff Goldblum, Beverly D\\'Angelo and Tom Berenger) perhaps add a lot of fame to the movie nowadays, but back when it was released they were still too unknown in order to attract curious viewers. My personal pick for best performances go to Burgess Meredith as the uncanny neighbor and Eli Wallach as the satirical police inspector. The relatively unknown Cristina Raines does an admirable job carrying the film and Chris Sarandon neatly back her up, even though he sports a ridiculous mustache. In my humble opinion \"The Sentinel\" is a marvelously entertaining and frightening horror movie, and most definitely a must-see for TRUE genre fanatics.', 'As Peckinpah did with STRAW DOGS, and Kubrick with A CLOCKWORK ORANGE, director John Boorman delivers an effective film about Man\\'s violent side in DELIVERANCE, arguably a definitive horror film of the 1970s. Burt Reynolds, Jon Voight, Ned Beatty, and Ronny Cox portray four Atlanta businessmen who decide to take a canoe trip down the wild Cahulawassee River in northern Georgia before it is dammed up into what Reynolds calls \"one big, dead lake.\"<br /><br />But the local mountain folk take a painfully obvious dim view of these \"city boys\" carousing through their woods. And the following day, continuing on down the river, Beatty and Voight are accosted and sexually assaulted (the film\\'s infamous \"SQUEAL!\" sequence) by two vicious mountain men (Bill McKinney, Herbert \"Cowboy\" Coward). Thus, what started out as nothing more than a lark through the Appalachians has now turned into a nightmare in which our four protagonists come to see the thin line that exists between what we think of as civilization and what we think of as barbarism.<br /><br />James Dickey adapted the screenplay from his own best-selling book, and the result is an often gripping and disturbing shocker. Often known for its \"SQUEAL!\" and \"Dueling Banjos\" sequences, DELIVERANCE is also quite a pulse-pounding ordeal, with the four leading men superb in their roles, and McKinney and Coward making for two of the most frightening villains of all times. A must-see film for those willing to take a chance.', 'An Avent-garde nightmarish, extremely low-budget \"film\" that has delusions of grandeur. Hard to sit through. I get the message that child abuse is wrong. Wow big revelation. I had no clue it was wrong before viewing this. Yes that\\'s sarcasm. DON\\'T watch this \"film\" if you\\'re offended by nudity of either the male or female gender. DON\\'T watch it if you\\'re the least bit squeamish. DON\\'T watch it if you care about acting. On second thought just DON\\'T watch it period.<br /><br />My grade: D-<br /><br />DVD Extras:making the movie , the premiere,interview with Kristie Bowersock, deleted scenes, movie stills, Director\\'s commentary, 2 versions of the teaser trailer, music video by The Azoic, & a classroom video experiment', 'Sophia Loren plays Aida, in one of the worst films of all time. She can\\'t lipsync. In terms of production values, the film is so bad, that at one point, while Loren is mouthing \"O Patria Mia,\" she leans onto what looks to be a stone wall for support, and the canvas set billows and shakes.'], 'label': [1, 1, 1, 0, 0]}\n"
          ]
        }
      ]
    },
    {
      "cell_type": "markdown",
      "source": [
        "### #문제 006\n",
        "\n",
        "문제 004와 005에서 추출한 학습 데이터(800개), 검증 데이터(200개), 테스트 데이터(1,000개)를 사전학습된 distilbert-base-uncased 모델에 투입하기 위해, 토크나이저를 사용해 인코딩하세요.\n",
        "\n",
        "> 토크나이징, 인코딩은 텍스트를 기계가 이해할 수 있는 형태로 변환하는 과정입니다. 토큰은 텍스트의 의미 있는 가장 작은 단위로, 보통 단어나 부분 단어를 의미합니다. 토크나이징은 텍스트를 이러한 토큰들로 나누는 과정입니다. 예를 들어, \"I love NLP\"라는 문장은 \"I\", \"love\", \"NLP\"라는 토큰으로 나눌 수 있습니다.\n",
        "\n",
        "> 인코딩은 나눈 토큰들을 숫자로 변환하는 과정입니다. 각 토큰에는 사전에 정의된 어휘 사전(vocabulary)에 따라 고유한 숫자(ID)가 할당됩니다. 예를 들어, \"I\"는 1021, \"love\"는 2293, \"NLP\"는 11234로 변환될 수 있습니다. 이렇게 변환된 숫자 시퀀스를 `input_ids`라고 부르며, 이는 [1021, 2293, 11234]와 같은 형태를 가집니다. 이렇게 변환된 숫자 형태의 데이터는 기계학습 모델이 처리하기에 적합한 형태가 됩니다."
      ],
      "metadata": {
        "id": "ch4n8Awj2tS0"
      }
    },
    {
      "cell_type": "markdown",
      "source": [
        "💡 HINT\n",
        "\n",
        "1. Hugging Face의 DistilBertTokenizerFast 사용하여 ['distilbert-base-uncased'](https://huggingface.co/distilbert/distilbert-base-uncased) 토크나이저를 불러오세요.\n",
        "  ```python\n",
        "    from transformers import DistilBertTokenizerFast\n",
        "    tokenizer = DistilBertTokenizerFast.from_pretrained(\"불러올 토크나이저 이름을 입력하세요.\")\n",
        "  ```\n",
        "\n",
        "2. 다음의 파라미터를 사용하여 데이터를 토크나이징해보세요. 토크나이저의 [`__call__` 메소드](https://huggingface.co/docs/transformers/main_classes/tokenizer#transformers.PreTrainedTokenizer.__call__)를 직접 사용하여 텍스트를 토크나이징할 수 있어요.\n",
        "  - `padding=True`: 모든 시퀀스의 길이를 동일하게 맞춥니다.\n",
        "  - `truncation=True`: 최대 길이를 초과하는 시퀀스를 잘라냅니다.\n",
        "  - `max_length=512`: 최대 시퀀스 길이를 512로 설정합니다.\n",
        "  - `return_tensors=\"pt\"`: PyTorch 텐서 형태로 결과를 반환합니다.\n"
      ],
      "metadata": {
        "id": "5CAiay9RAiiS"
      }
    },
    {
      "cell_type": "code",
      "source": [
        "# DistilBERT Fast 토크나이저 로드\n",
        "from transformers import DistilBertTokenizerFast\n",
        "tokenizer = DistilBertTokenizerFast.from_pretrained(\"distilbert-base-uncased\")"
      ],
      "metadata": {
        "id": "9Zxm0_gC8zLd",
        "colab": {
          "base_uri": "https://localhost:8080/",
          "height": 145,
          "referenced_widgets": [
            "eb01d6d4f502424ba5ba2fd987786f1f",
            "f6c24e79524f4d6c93b64752033d3de5",
            "c12a614007a54c65b85b13206cdeed24",
            "16ba84d414bd4953b353c253b1bdcc99",
            "8ee30853e4224374a9e65752bf8786e3",
            "f303021184c647f980ce9ace50f2084f",
            "27d949a3459f4a649d749afbc7fbcbba",
            "6cefab051c384ce99d04977c6fdc1963",
            "ae533552d56d4aacab8721f4cda3a8f9",
            "b6ba14a080754068843f6b8b5083296b",
            "13cd8b87b71847518c727d12db7bd1e9",
            "4a6309dce06547a1b022bfb6a30dc6ee",
            "6e00e5745c23466bb6f1f85cba6382bf",
            "1f6f8c3d6738442a8bdb67da5d017a6a",
            "55ce458a27a64ea4a8c35c111e727809",
            "566e06d527864ce385f319ab164f0b54",
            "16c558f99f25432486329895b37f0a83",
            "463da6fab74a4ffe983a59f4388a11f0",
            "499a8763899840de9249fe4e3c73d4e3",
            "8e48594f0e52423da621c57f9935716f",
            "e4f54c1167ad44d18e7249566f831a5a",
            "7c2cd735b07d4df08a70ebfe32511459",
            "50c0f8b1ac7946f8a64d9cf8db06ac8c",
            "f4bd92cf4fed49debe418807c68168a7",
            "abb895fc337f463db5d706e2dcf6acb9",
            "230c8f771b174272b19800f9f548375e",
            "431aa7ba6f2840a0990aa327dbe7d637",
            "b87bb1c746a446f79af5407f3d9612b8",
            "64cd4750db03451386127f98e4d88717",
            "8e4daa8af62b403fad8cd69d16710c29",
            "28fe0e3de0cb4d279c2ef0ee922ca29e",
            "117277a99999498da8263aa56e95007d",
            "9d78d6c7d9f747638e192d3f618b5c5d",
            "9ff88578a19c430dbea06f8f466cdf19",
            "b52e57d44c2449c3bfc7496d916406cf",
            "ea61e91044874c8aa8aad537ed98b541",
            "622bea56bcec4ca2811d7ee780fbf924",
            "c6fe07e207a14288961a972bcd9ab821",
            "7edfd91e9a2d40a1ab5c27df0bd9e36c",
            "8c501709dabe410bb1266cffc91ea203",
            "325902af8ea44f83949719ae19cb5183",
            "fd0a9be9383a410da072fa8643976ae1",
            "351cffd14d614e6bb7ba7cd52a78a9b6",
            "0141f480c0ba4810ad844d7da4361792"
          ]
        },
        "outputId": "6c3dac65-fd80-4d0c-afa1-12ad9c0d46f0"
      },
      "execution_count": 6,
      "outputs": [
        {
          "output_type": "display_data",
          "data": {
            "text/plain": [
              "tokenizer_config.json:   0%|          | 0.00/48.0 [00:00<?, ?B/s]"
            ],
            "application/vnd.jupyter.widget-view+json": {
              "version_major": 2,
              "version_minor": 0,
              "model_id": "eb01d6d4f502424ba5ba2fd987786f1f"
            }
          },
          "metadata": {}
        },
        {
          "output_type": "display_data",
          "data": {
            "text/plain": [
              "vocab.txt:   0%|          | 0.00/232k [00:00<?, ?B/s]"
            ],
            "application/vnd.jupyter.widget-view+json": {
              "version_major": 2,
              "version_minor": 0,
              "model_id": "4a6309dce06547a1b022bfb6a30dc6ee"
            }
          },
          "metadata": {}
        },
        {
          "output_type": "display_data",
          "data": {
            "text/plain": [
              "tokenizer.json:   0%|          | 0.00/466k [00:00<?, ?B/s]"
            ],
            "application/vnd.jupyter.widget-view+json": {
              "version_major": 2,
              "version_minor": 0,
              "model_id": "50c0f8b1ac7946f8a64d9cf8db06ac8c"
            }
          },
          "metadata": {}
        },
        {
          "output_type": "display_data",
          "data": {
            "text/plain": [
              "config.json:   0%|          | 0.00/483 [00:00<?, ?B/s]"
            ],
            "application/vnd.jupyter.widget-view+json": {
              "version_major": 2,
              "version_minor": 0,
              "model_id": "9ff88578a19c430dbea06f8f466cdf19"
            }
          },
          "metadata": {}
        }
      ]
    },
    {
      "cell_type": "code",
      "source": [
        "# 데이터 토크나이징하기\n",
        "tokenized_train = tokenizer(train_dataset['text'], padding=True, truncation=True, max_length=512, return_tensors=\"pt\")\n",
        "tokenized_val = tokenizer(valid_dataset['text'], padding=True, truncation=True, max_length=512, return_tensors=\"pt\")\n",
        "tokenized_test = tokenizer(test_dataset['text'], padding=True, truncation=True, max_length=512, return_tensors=\"pt\")"
      ],
      "metadata": {
        "id": "3UQAP2lOEoYW"
      },
      "execution_count": 7,
      "outputs": []
    },
    {
      "cell_type": "code",
      "source": [
        "# 결과 확인\n",
        "print(\"학습 데이터 인풋 크기:\", len(tokenized_train['input_ids']))\n",
        "print(\"검증 데이터 인풋 크기:\", len(tokenized_val['input_ids']))\n",
        "print(\"테스트 데이터 인풋 크기:\", len(tokenized_test['input_ids']))\n",
        "\n",
        "# 0번째 텍스트의 5번째 토큰까지의 input_ids 출력\n",
        "print(\"\\n토크나이징된 학습 데이터 샘플:\", tokenized_train['input_ids'][0][:5])\n",
        "\n",
        "# 위의 결과를 디코딩하여 출력\n",
        "print(\"\\n   디코딩된 학습 데이터 샘플:\", tokenizer.decode(tokenized_train['input_ids'][0][:5]))"
      ],
      "metadata": {
        "id": "B9zLYzzPF0qB",
        "colab": {
          "base_uri": "https://localhost:8080/"
        },
        "outputId": "c376ef6b-15e0-4940-c02a-1b14742d04f6"
      },
      "execution_count": 8,
      "outputs": [
        {
          "output_type": "stream",
          "name": "stdout",
          "text": [
            "학습 데이터 인풋 크기: 20000\n",
            "검증 데이터 인풋 크기: 5000\n",
            "테스트 데이터 인풋 크기: 25000\n",
            "\n",
            "토크나이징된 학습 데이터 샘플: tensor([  101,  2004,  1999, 25285,  1010])\n",
            "\n",
            "   디코딩된 학습 데이터 샘플: [CLS] as in amelie,\n"
          ]
        }
      ]
    },
    {
      "cell_type": "markdown",
      "source": [
        "지금까지 정말 수고 많으셨습니다 🤗 지난 주 보다는 조금 어려웠는데 잘 따라오셨나요?\n",
        "\n",
        "이전에 작성한 코드를 바탕으로 Dataset을 상속하는 IMDbDataset 클래스를 만들어 볼게요. 이 클래스는 IMDB 데이터셋을 효율적으로 처리하고, 다음 주에 진행할 언어 모델 파인튜닝에 사용될 거예요."
      ],
      "metadata": {
        "id": "yqmsuxIMI_MD"
      }
    },
    {
      "cell_type": "code",
      "source": [
        "import torch\n",
        "from datasets import Dataset\n",
        "\n",
        "class IMDbDataset(Dataset):\n",
        "    def __init__(self, tokenized_data, labels):\n",
        "        self.input_ids = tokenized_data['input_ids'].clone().detach()\n",
        "        self.attention_mask = tokenized_data['attention_mask'].clone().detach()\n",
        "        self.labels = torch.tensor(labels)\n",
        "\n",
        "    def __len__(self):\n",
        "        return len(self.input_ids)\n",
        "\n",
        "    def __getitem__(self, idx):\n",
        "        return {\n",
        "            'input_ids': self.input_ids[idx],\n",
        "            'attention_mask': self.attention_mask[idx],\n",
        "            'labels': self.labels[idx]\n",
        "        }\n",
        "\n",
        "# 원본 데이터셋에서 labels 추출\n",
        "train_labels = train_dataset['label']\n",
        "val_labels = valid_dataset['label']\n",
        "test_labels = test_dataset['label']\n",
        "\n",
        "# 클래스 인스턴스화\n",
        "train_dataset = IMDbDataset(tokenized_train, train_labels)\n",
        "val_dataset = IMDbDataset(tokenized_val, val_labels)\n",
        "test_dataset = IMDbDataset(tokenized_test, test_labels)\n",
        "\n",
        "# 결과 확인\n",
        "print(\"학습 데이터 크기:\", len(train_dataset))\n",
        "print(\"검증 데이터 크기:\", len(val_dataset))\n",
        "print(\"테스트 데이터 크기:\", len(test_dataset))\n",
        "\n",
        "# 데이터 샘플 확인\n",
        "print(\"\\n학습 데이터 샘플:\")\n",
        "sample = train_dataset[0]\n",
        "print(\"Input IDs:\", sample['input_ids'][:10], \"...\")  # 처음 10개 토큰만 출력\n",
        "print(\"Attention Mask:\", sample['attention_mask'][:10], \"...\")\n",
        "print(\"Label:\", sample['labels'])"
      ],
      "metadata": {
        "id": "rB_h9Q8qKjlr",
        "colab": {
          "base_uri": "https://localhost:8080/"
        },
        "outputId": "cc1d24e6-28d4-49e5-8212-776bbc8cae28"
      },
      "execution_count": 9,
      "outputs": [
        {
          "output_type": "stream",
          "name": "stdout",
          "text": [
            "학습 데이터 크기: 20000\n",
            "검증 데이터 크기: 5000\n",
            "테스트 데이터 크기: 25000\n",
            "\n",
            "학습 데이터 샘플:\n",
            "Input IDs: tensor([  101,  2004,  1999, 25285,  1010,  3522,  2413,  3152,  4025,  2000]) ...\n",
            "Attention Mask: tensor([1, 1, 1, 1, 1, 1, 1, 1, 1, 1]) ...\n",
            "Label: tensor(1)\n"
          ]
        }
      ]
    },
    {
      "cell_type": "markdown",
      "source": [
        "> 📝 위 코드를 이해하기 위한 개념들을 아래에다 정리해보았어요.\n",
        "- `텐서(Tensor)`\n",
        "  - 숫자 데이터를 담는 다차원 배열입니다.\n",
        "  - 머신러닝과 딥러닝에서 데이터를 표현하는 기본 단위입니다.\n",
        "  - NumPy의 배열과 유사하지만, GPU에서 빠른 연산이 가능합니다.\n",
        "  - PyTorch에서는 torch.tensor()로 생성합니다.\n",
        "- `input_ids`\n",
        "  - 텍스트를 숫자로 변환한 결과입니다.\n",
        "  - 각 단어나 부분 단어(서브워드)가 고유한 정수 ID로 표현됩니다.\n",
        "  - 예: \"I love NLP\" → [101, 1045, 2293, 19204, 102]\n",
        "  - 101과 102는 각각 문장의 시작과 끝을 나타내는 특수 토큰입니다.\n",
        "- `attention_mask`\n",
        "  - 실제 입력 데이터와 패딩을 구분하는 이진 마스크입니다.\n",
        "  - 1은 실제 토큰을, 0은 패딩 토큰을 나타냅니다.\n",
        "  - 모델이 패딩된 부분을 무시하고 실제 입력에만 주목하게 합니다.\n",
        "  - 예: [1, 1, 1, 1, 1, 0, 0] (5개의 실제 토큰, 2개의 패딩)\n",
        "- `labels`\n",
        "  - 각 텍스트 샘플의 분류 결과를 나타내는 숫자입니다.\n",
        "  - 이진 분류의 경우, 보통 0과 1로 표현합니다.\n",
        "  - IMDB 데이터셋의 경우: 0은 부정적 리뷰, 1은 긍정적 리뷰\n",
        "  - 다중 분류 작업에서는 클래스 수만큼의 고유한 정수를 사용합니다."
      ],
      "metadata": {
        "id": "4AJEwo4FLDP8"
      }
    }
  ]
}